{
 "cells": [
  {
   "cell_type": "code",
   "execution_count": 1,
   "id": "8e0b1534",
   "metadata": {},
   "outputs": [
    {
     "name": "stdout",
     "output_type": "stream",
     "text": [
      "3\n",
      "4\n",
      "7\n"
     ]
    }
   ],
   "source": [
    "#Add 2 numbers\n",
    "n,m = int(input()), int(input())\n",
    "print(n+m)"
   ]
  },
  {
   "cell_type": "code",
   "execution_count": 4,
   "id": "f7579988",
   "metadata": {},
   "outputs": [
    {
     "name": "stdout",
     "output_type": "stream",
     "text": [
      "3\n",
      "4\n",
      "4\n"
     ]
    }
   ],
   "source": [
    "#max of 2 num\n",
    "n,m = int(input()), int(input())\n",
    "if n>m:\n",
    "    print(n)\n",
    "elif(n=m):\n",
    "    print('equal')\n",
    "else:\n",
    "    print(m)"
   ]
  },
  {
   "cell_type": "code",
   "execution_count": 11,
   "id": "f8057c7d",
   "metadata": {},
   "outputs": [
    {
     "name": "stdout",
     "output_type": "stream",
     "text": [
      "5\n",
      "120\n"
     ]
    }
   ],
   "source": [
    "#factorial of a number\n",
    "n=int(input())\n",
    "n_fact = 1\n",
    "for i in range(n):\n",
    "    if n==0 or n==1:\n",
    "        n_fact = n_fact*1\n",
    "    else:\n",
    "        n_fact = n_fact * (n)\n",
    "        n-=1\n",
    "print(n_fact)"
   ]
  },
  {
   "cell_type": "code",
   "execution_count": 18,
   "id": "a455d40c",
   "metadata": {},
   "outputs": [
    {
     "name": "stdout",
     "output_type": "stream",
     "text": [
      "principal3000\n",
      "rate7\n",
      "time3.5\n",
      "735.0\n"
     ]
    }
   ],
   "source": [
    "#simple interest(si=prt/100)\n",
    "p,r,t = float(input(\"principal\")),float(input(\"rate\")),float(input(\"time\"))\n",
    "SI = (p*r*t)/100\n",
    "print(SI)"
   ]
  },
  {
   "cell_type": "code",
   "execution_count": 21,
   "id": "70327aaf",
   "metadata": {},
   "outputs": [
    {
     "name": "stdout",
     "output_type": "stream",
     "text": [
      "principal1234\n",
      "rate6\n",
      "time3.8\n",
      "1539.846561934717\n"
     ]
    }
   ],
   "source": [
    "#compound interest(ci=p*((1+(r/100))**t))\n",
    "p,r,t = float(input(\"principal\")),float(input(\"rate\")),float(input(\"time\"))\n",
    "CI = p*((1+(r/100))**t)\n",
    "print(CI)"
   ]
  },
  {
   "cell_type": "code",
   "execution_count": 40,
   "id": "a47f63f5",
   "metadata": {},
   "outputs": [
    {
     "name": "stdout",
     "output_type": "stream",
     "text": [
      "153\n",
      "armstrong\n"
     ]
    }
   ],
   "source": [
    "#armstrong\n",
    "n= input()\n",
    "num=[]\n",
    "length= len(n)\n",
    "sum = 0\n",
    "for x in n:\n",
    "    num.append(x)\n",
    "#print(num)\n",
    "#print(length)\n",
    "\n",
    "for i in num:\n",
    "    #print(i)\n",
    "    sum = sum + int(i)**length\n",
    "\n",
    "if(sum == int(n)):\n",
    "    print(\"armstrong\")\n",
    "else:\n",
    "    print(\"not armstrong\")"
   ]
  },
  {
   "cell_type": "code",
   "execution_count": 41,
   "id": "8ec2b5fa",
   "metadata": {},
   "outputs": [
    {
     "name": "stdout",
     "output_type": "stream",
     "text": [
      "5\n",
      "78.5\n"
     ]
    }
   ],
   "source": [
    "#area of circle\n",
    "r = float(input())\n",
    "pi = 3.14\n",
    "area = pi*(r**2)\n",
    "print(area)"
   ]
  },
  {
   "cell_type": "code",
   "execution_count": 48,
   "id": "e2e74367",
   "metadata": {},
   "outputs": [
    {
     "name": "stdout",
     "output_type": "stream",
     "text": [
      "10\n",
      "20\n",
      "[11, 13, 17, 19]\n"
     ]
    }
   ],
   "source": [
    "#prime no. in a interval\n",
    "def prime(n):\n",
    "    if n==0 or n==1:\n",
    "        return False\n",
    "    else:\n",
    "        for i in range(2,n):\n",
    "            if n%i==0:\n",
    "                return False\n",
    "        \n",
    "        return True\n",
    "    \n",
    "start = int(input())\n",
    "end = int(input())\n",
    "prime_nos = []\n",
    "for i in range(start+1,end+1):\n",
    "    if prime(i)==True:\n",
    "        prime_nos.append(i)\n",
    "        \n",
    "print(prime_nos)"
   ]
  },
  {
   "cell_type": "code",
   "execution_count": 49,
   "id": "83840805",
   "metadata": {},
   "outputs": [
    {
     "name": "stdout",
     "output_type": "stream",
     "text": [
      "11\n",
      "True\n"
     ]
    }
   ],
   "source": [
    "#check prime\n",
    "def check_prime(n):\n",
    "    if n==0 or n==1:\n",
    "        return False\n",
    "    else:\n",
    "        for i in range(2,n):\n",
    "            if n%i==0:\n",
    "                return False\n",
    "        \n",
    "        return True\n",
    "    \n",
    "n = int(input())\n",
    "print(check_prime(n))"
   ]
  },
  {
   "cell_type": "code",
   "execution_count": 56,
   "id": "629109e4",
   "metadata": {},
   "outputs": [
    {
     "name": "stdout",
     "output_type": "stream",
     "text": [
      "13\n",
      "144\n"
     ]
    }
   ],
   "source": [
    "#fibonacci\n",
    "def fibonacci(i):\n",
    "    if i == 1:\n",
    "        return 0\n",
    "    if i == 2:\n",
    "        return 1\n",
    "    return (fibonacci(i-1) + fibonacci(i-2))\n",
    "    \n",
    "    \n",
    "n = int(input())\n",
    "print(fibonacci(n))"
   ]
  },
  {
   "cell_type": "code",
   "execution_count": null,
   "id": "653f600c",
   "metadata": {},
   "outputs": [],
   "source": []
  }
 ],
 "metadata": {
  "kernelspec": {
   "display_name": "Python 3 (ipykernel)",
   "language": "python",
   "name": "python3"
  },
  "language_info": {
   "codemirror_mode": {
    "name": "ipython",
    "version": 3
   },
   "file_extension": ".py",
   "mimetype": "text/x-python",
   "name": "python",
   "nbconvert_exporter": "python",
   "pygments_lexer": "ipython3",
   "version": "3.8.12"
  }
 },
 "nbformat": 4,
 "nbformat_minor": 5
}
