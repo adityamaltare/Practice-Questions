{
 "cells": [
  {
   "cell_type": "code",
   "execution_count": 1,
   "id": "7f09a7e7",
   "metadata": {},
   "outputs": [
    {
     "name": "stdout",
     "output_type": "stream",
     "text": [
      "1 2 3 4 5 6\n",
      "6\n"
     ]
    }
   ],
   "source": [
    "# largest element in list\n",
    "def max_array(array):\n",
    "    max = 0\n",
    "    for i in array:\n",
    "        if i>=max:\n",
    "            max = i\n",
    "        \n",
    "    return max\n",
    "\n",
    "\n",
    "array= list(map(int,input().split()))\n",
    "print(max_array(array))"
   ]
  },
  {
   "cell_type": "code",
   "execution_count": 21,
   "id": "a38d5ed1",
   "metadata": {},
   "outputs": [
    {
     "name": "stdout",
     "output_type": "stream",
     "text": [
      "1 2 3 4 5\n",
      "4\n"
     ]
    }
   ],
   "source": [
    "# second largest element in list (method 1)\n",
    "def second_max_array(array):\n",
    "    new_array = array.copy()    \n",
    "    max = 0\n",
    "    for i in array:\n",
    "        if i>=max:\n",
    "            max = i     \n",
    "    return max\n",
    "\n",
    "array= list(map(int,input().split()))\n",
    "new_array = array.copy()\n",
    "new_array.remove(second_max_array(array))\n",
    "print(second_max_array(new_array))"
   ]
  },
  {
   "cell_type": "code",
   "execution_count": 16,
   "id": "7cb1d4a8",
   "metadata": {},
   "outputs": [
    {
     "name": "stdout",
     "output_type": "stream",
     "text": [
      "1 2 3 4\n",
      "3\n"
     ]
    }
   ],
   "source": [
    "#second largest element in list(method 2)\n",
    "array= list(map(int,input().split()))\n",
    "array.sort(reverse=True)\n",
    "print(array[1])"
   ]
  },
  {
   "cell_type": "code",
   "execution_count": 1,
   "id": "8d8fe1be",
   "metadata": {},
   "outputs": [
    {
     "name": "stdout",
     "output_type": "stream",
     "text": [
      "[85, 41]\n"
     ]
    }
   ],
   "source": [
    "#n largest elements from list\n",
    "def Nmaxelements(list1, N):\n",
    "    final_list = []\n",
    "  \n",
    "    for i in range(0, N): \n",
    "        max1 = 0\n",
    "          \n",
    "        for j in range(len(list1)):     \n",
    "            if list1[j] > max1:\n",
    "                max1 = list1[j];\n",
    "                  \n",
    "        list1.remove(max1);\n",
    "        final_list.append(max1)\n",
    "          \n",
    "    print(final_list)\n",
    "\n",
    "    \n",
    "    \n",
    "list1 = [2, 6, 41, 85, 0, 3, 7, 6, 10]\n",
    "N = 2\n",
    "Nmaxelements(list1, N)"
   ]
  },
  {
   "cell_type": "code",
   "execution_count": 2,
   "id": "d1d0bc5c",
   "metadata": {},
   "outputs": [
    {
     "name": "stdout",
     "output_type": "stream",
     "text": [
      "[2, 4, 6]\n"
     ]
    }
   ],
   "source": [
    "#print even no. in list\n",
    "def even(list1):\n",
    "    nl=[]\n",
    "    for i in list1:\n",
    "        if i%2==0:\n",
    "            nl.append(i)\n",
    "    return nl\n",
    "\n",
    "\n",
    "list1 = [1,2,3,4,5,6]\n",
    "print(even(list1))"
   ]
  },
  {
   "cell_type": "code",
   "execution_count": 3,
   "id": "dabee4b0",
   "metadata": {},
   "outputs": [
    {
     "name": "stdout",
     "output_type": "stream",
     "text": [
      "[1, 3, 5]\n"
     ]
    }
   ],
   "source": [
    "#print odd no. in list\n",
    "def odd(list1):\n",
    "    nl=[]\n",
    "    for i in list1:\n",
    "        if i%2!=0:\n",
    "            nl.append(i)\n",
    "    return nl\n",
    "\n",
    "\n",
    "list1 = [1,2,3,4,5,6]\n",
    "print(odd(list1))"
   ]
  },
  {
   "cell_type": "code",
   "execution_count": 6,
   "id": "ec821242",
   "metadata": {},
   "outputs": [
    {
     "name": "stdout",
     "output_type": "stream",
     "text": [
      "[2, 4, 6, 8]\n"
     ]
    }
   ],
   "source": [
    "#print even no. in range in list\n",
    "def evenran(list1, range):\n",
    "    nl=[]\n",
    "    for i in list1:\n",
    "        if i >= range[0] and i<= range[-1]:\n",
    "            if i%2==0:\n",
    "                nl.append(i)\n",
    "    return nl\n",
    "\n",
    "\n",
    "list1 = [1,2,3,4,5,6,7,8,9,10]\n",
    "range = [2,8]\n",
    "print(evenran(list1, range))"
   ]
  },
  {
   "cell_type": "code",
   "execution_count": 7,
   "id": "b361a9d3",
   "metadata": {},
   "outputs": [
    {
     "name": "stdout",
     "output_type": "stream",
     "text": [
      "[3, 5, 7]\n"
     ]
    }
   ],
   "source": [
    "#print odd no. in range in list\n",
    "def oddran(list1, range):\n",
    "    nl=[]\n",
    "    for i in list1:\n",
    "        if i >= range[0] and i<= range[-1]:\n",
    "            if i%2!=0:\n",
    "                nl.append(i)\n",
    "    return nl\n",
    "\n",
    "\n",
    "list1 = [1,2,3,4,5,6,7,8,9,10]\n",
    "range = [2,8]\n",
    "print(oddran(list1, range))"
   ]
  },
  {
   "cell_type": "code",
   "execution_count": 8,
   "id": "f24d3d3d",
   "metadata": {},
   "outputs": [
    {
     "name": "stdout",
     "output_type": "stream",
     "text": [
      "[1, 4, 5]\n"
     ]
    }
   ],
   "source": [
    "#print positive no. in range in list\n",
    "def pos(list1):\n",
    "    nl=[]\n",
    "    for i in list1:\n",
    "        if i>=0:\n",
    "            nl.append(i)\n",
    "    return nl\n",
    "\n",
    "\n",
    "list1 = [1,-3,4,5,-6]\n",
    "\n",
    "print(pos(list1))"
   ]
  },
  {
   "cell_type": "code",
   "execution_count": 9,
   "id": "b1d43c02",
   "metadata": {},
   "outputs": [
    {
     "name": "stdout",
     "output_type": "stream",
     "text": [
      "[-3, -6]\n"
     ]
    }
   ],
   "source": [
    "#print negative no. in range in list\n",
    "def neg(list1):\n",
    "    nl=[]\n",
    "    for i in list1:\n",
    "        if i<0:\n",
    "            nl.append(i)\n",
    "    return nl\n",
    "\n",
    "\n",
    "list1 = [1,-3,4,5,-6]\n",
    "\n",
    "print(neg(list1))"
   ]
  },
  {
   "cell_type": "code",
   "execution_count": 10,
   "id": "fd5e7d9c",
   "metadata": {},
   "outputs": [
    {
     "name": "stdout",
     "output_type": "stream",
     "text": [
      "[2, 4, 6]\n"
     ]
    }
   ],
   "source": [
    "#print positive no. in range in list\n",
    "def posran(list1, range):\n",
    "    nl=[]\n",
    "    for i in list1:\n",
    "        if i >= range[0] and i<= range[-1]:\n",
    "            if i>=0:\n",
    "                nl.append(i)\n",
    "    return nl\n",
    "\n",
    "\n",
    "list1 = [1,2,-3,4,-5,6,7,-8,-9,10]\n",
    "range = [2,6]\n",
    "print(posran(list1, range))"
   ]
  },
  {
   "cell_type": "code",
   "execution_count": 21,
   "id": "e8a082de",
   "metadata": {},
   "outputs": [
    {
     "name": "stdout",
     "output_type": "stream",
     "text": [
      "-12\n",
      "2\n"
     ]
    },
    {
     "ename": "TypeError",
     "evalue": "'list' object is not callable",
     "output_type": "error",
     "traceback": [
      "\u001b[1;31m---------------------------------------------------------------------------\u001b[0m",
      "\u001b[1;31mTypeError\u001b[0m                                 Traceback (most recent call last)",
      "\u001b[1;32m~\\AppData\\Local\\Temp/ipykernel_35852/981511456.py\u001b[0m in \u001b[0;36m<module>\u001b[1;34m\u001b[0m\n\u001b[0;32m      4\u001b[0m \u001b[1;33m\u001b[0m\u001b[0m\n\u001b[0;32m      5\u001b[0m \u001b[1;31m# iterating each number in list\u001b[0m\u001b[1;33m\u001b[0m\u001b[1;33m\u001b[0m\u001b[1;33m\u001b[0m\u001b[0m\n\u001b[1;32m----> 6\u001b[1;33m \u001b[1;32mfor\u001b[0m \u001b[0mnum\u001b[0m \u001b[1;32min\u001b[0m \u001b[0mrange\u001b[0m\u001b[1;33m(\u001b[0m\u001b[0mstart\u001b[0m\u001b[1;33m,\u001b[0m\u001b[0mend\u001b[0m\u001b[1;33m+\u001b[0m\u001b[1;36m1\u001b[0m\u001b[1;33m)\u001b[0m\u001b[1;33m:\u001b[0m\u001b[1;33m\u001b[0m\u001b[1;33m\u001b[0m\u001b[0m\n\u001b[0m\u001b[0;32m      7\u001b[0m     \u001b[1;32mif\u001b[0m \u001b[0mnum\u001b[0m \u001b[1;33m>=\u001b[0m \u001b[1;36m0\u001b[0m\u001b[1;33m:\u001b[0m\u001b[1;33m\u001b[0m\u001b[1;33m\u001b[0m\u001b[0m\n\u001b[0;32m      8\u001b[0m         \u001b[0mprint\u001b[0m\u001b[1;33m(\u001b[0m\u001b[0mnum\u001b[0m\u001b[1;33m)\u001b[0m\u001b[1;33m\u001b[0m\u001b[1;33m\u001b[0m\u001b[0m\n",
      "\u001b[1;31mTypeError\u001b[0m: 'list' object is not callable"
     ]
    }
   ],
   "source": [
    "\n",
    "# Python program to print positive Numbers in given range\n",
    "start = int(input())\n",
    "end = int(input())\n",
    "  \n",
    "# iterating each number in list\n",
    "for num in range(start,end+1):\n",
    "    if num >= 0:\n",
    "        print(num)"
   ]
  },
  {
   "cell_type": "code",
   "execution_count": null,
   "id": "09682cfd",
   "metadata": {},
   "outputs": [],
   "source": [
    "  \n"
   ]
  },
  {
   "cell_type": "code",
   "execution_count": null,
   "id": "03ffaf46",
   "metadata": {},
   "outputs": [],
   "source": []
  },
  {
   "cell_type": "code",
   "execution_count": null,
   "id": "0c2b4cf8",
   "metadata": {},
   "outputs": [],
   "source": []
  }
 ],
 "metadata": {
  "kernelspec": {
   "display_name": "Python 3 (ipykernel)",
   "language": "python",
   "name": "python3"
  },
  "language_info": {
   "codemirror_mode": {
    "name": "ipython",
    "version": 3
   },
   "file_extension": ".py",
   "mimetype": "text/x-python",
   "name": "python",
   "nbconvert_exporter": "python",
   "pygments_lexer": "ipython3",
   "version": "3.8.12"
  }
 },
 "nbformat": 4,
 "nbformat_minor": 5
}
