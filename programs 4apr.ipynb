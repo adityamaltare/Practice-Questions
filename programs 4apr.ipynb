{
 "cells": [
  {
   "cell_type": "code",
   "execution_count": 1,
   "id": "9c682c33",
   "metadata": {},
   "outputs": [
    {
     "name": "stdout",
     "output_type": "stream",
     "text": [
      "1 2 3 4 5 6\n",
      "6\n"
     ]
    }
   ],
   "source": [
    "# largest element in list\n",
    "def max_array(array):\n",
    "    max = 0\n",
    "    for i in array:\n",
    "        if i>=max:\n",
    "            max = i\n",
    "        \n",
    "    return max\n",
    "\n",
    "\n",
    "array= list(map(int,input().split()))\n",
    "print(max_array(array))"
   ]
  },
  {
   "cell_type": "code",
   "execution_count": 21,
   "id": "11cbd2d9",
   "metadata": {},
   "outputs": [
    {
     "name": "stdout",
     "output_type": "stream",
     "text": [
      "1 2 3 4 5\n",
      "4\n"
     ]
    }
   ],
   "source": [
    "# second largest element in list (method 1)\n",
    "def second_max_array(array):\n",
    "    new_array = array.copy()    \n",
    "    max = 0\n",
    "    for i in array:\n",
    "        if i>=max:\n",
    "            max = i     \n",
    "    return max\n",
    "\n",
    "array= list(map(int,input().split()))\n",
    "new_array = array.copy()\n",
    "new_array.remove(second_max_array(array))\n",
    "print(second_max_array(new_array))"
   ]
  },
  {
   "cell_type": "code",
   "execution_count": 16,
   "id": "76193a2c",
   "metadata": {},
   "outputs": [
    {
     "name": "stdout",
     "output_type": "stream",
     "text": [
      "1 2 3 4\n",
      "3\n"
     ]
    }
   ],
   "source": [
    "#second largest element in list(method 2)\n",
    "array= list(map(int,input().split()))\n",
    "array.sort(reverse=True)\n",
    "print(array[1])"
   ]
  },
  {
   "cell_type": "code",
   "execution_count": null,
   "id": "88dd093a",
   "metadata": {},
   "outputs": [],
   "source": []
  }
 ],
 "metadata": {
  "kernelspec": {
   "display_name": "Python 3 (ipykernel)",
   "language": "python",
   "name": "python3"
  },
  "language_info": {
   "codemirror_mode": {
    "name": "ipython",
    "version": 3
   },
   "file_extension": ".py",
   "mimetype": "text/x-python",
   "name": "python",
   "nbconvert_exporter": "python",
   "pygments_lexer": "ipython3",
   "version": "3.8.12"
  }
 },
 "nbformat": 4,
 "nbformat_minor": 5
}
