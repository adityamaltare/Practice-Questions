{
 "cells": [
  {
   "cell_type": "code",
   "execution_count": null,
   "id": "793fc15a",
   "metadata": {},
   "outputs": [],
   "source": []
  },
  {
   "cell_type": "code",
   "execution_count": 3,
   "id": "ee028e9d",
   "metadata": {},
   "outputs": [
    {
     "name": "stdout",
     "output_type": "stream",
     "text": [
      "5\n",
      "20\n",
      "30\n",
      "40\n",
      "45\n"
     ]
    }
   ],
   "source": [
    "array =[1, 4, 6, 8, 9]\n",
    "for i in range(len(array)):\n",
    "    print(array[i]*5)"
   ]
  },
  {
   "cell_type": "code",
   "execution_count": 4,
   "id": "afcdd457",
   "metadata": {},
   "outputs": [
    {
     "name": "stdout",
     "output_type": "stream",
     "text": [
      "1\n",
      "4\n",
      "8\n"
     ]
    }
   ],
   "source": [
    "array =[1, 4, 'xyz', 8, 'abcd']\n",
    "for i in array:\n",
    "    if type(i)==int:\n",
    "        print(i)"
   ]
  },
  {
   "cell_type": "code",
   "execution_count": 20,
   "id": "fae5ab8c",
   "metadata": {},
   "outputs": [
    {
     "name": "stdout",
     "output_type": "stream",
     "text": [
      "[18, 10, 2, 5, 7, 11]\n"
     ]
    }
   ],
   "source": [
    "a=[666,55,11,14,43,56]\n",
    "new_array= []\n",
    "for i in a:\n",
    "    b = str(i)\n",
    "    \n",
    "    sum = 0\n",
    "    for x in range(len(b)):\n",
    "        sum = sum +int(b[x])\n",
    "    new_array.append(sum)\n",
    "    \n",
    "print(new_array)"
   ]
  },
  {
   "cell_type": "code",
   "execution_count": 6,
   "id": "baa2689a",
   "metadata": {},
   "outputs": [
    {
     "name": "stdout",
     "output_type": "stream",
     "text": [
      "9\n"
     ]
    }
   ],
   "source": [
    "a = [1, 5, 6, 8, 9]\n",
    "max = 0\n",
    "for i in a:\n",
    "    if i >= max:\n",
    "        max = i\n",
    "print(i)"
   ]
  },
  {
   "cell_type": "code",
   "execution_count": 47,
   "id": "61031dd0",
   "metadata": {},
   "outputs": [
    {
     "name": "stdout",
     "output_type": "stream",
     "text": [
      "108\n"
     ]
    }
   ],
   "source": [
    "a = 666666666666666666\n",
    "b = str(a)\n",
    "sum = 0\n",
    "for i in range(len(b)):\n",
    "    sum = sum + int(b[i])\n",
    "    \n",
    "print(sum)"
   ]
  },
  {
   "cell_type": "code",
   "execution_count": 38,
   "id": "564e365a",
   "metadata": {},
   "outputs": [
    {
     "name": "stdout",
     "output_type": "stream",
     "text": [
      "[18]\n",
      "[18, 10]\n",
      "[18, 10, 2]\n",
      "[18, 10, 2, 5]\n",
      "[18, 10, 2, 5, 7]\n",
      "[18, 10, 2, 5, 7, 11]\n",
      "[9]\n",
      "[9]\n",
      "[9, 1]\n",
      "[9]\n",
      "[9, 1]\n",
      "[9, 1, 2]\n",
      "[2, 5, 7]\n"
     ]
    }
   ],
   "source": [
    "#additive sum\n",
    "def sumlist(a):\n",
    "    new_array= []\n",
    "    midarray=[]\n",
    "    final=[]\n",
    "    for i in a:\n",
    "        b = str(i)\n",
    "        sum = 0\n",
    "        for x in range(len(b)):\n",
    "            sum = sum +int(b[x])\n",
    "        new_array.append(sum)\n",
    "        print(new_array)\n",
    "    for i in new_array:\n",
    "        if len(str(i))==1:\n",
    "            final.append(i)\n",
    "        else:\n",
    "            midarray.append(i)\n",
    "            sumlist(midarray)       \n",
    "    return final\n",
    "    \n",
    "\n",
    "a=[666,55,11,14,43,56]\n",
    "print(sumlist(a))\n"
   ]
  },
  {
   "cell_type": "code",
   "execution_count": 55,
   "id": "9fae6cdd",
   "metadata": {},
   "outputs": [
    {
     "name": "stdout",
     "output_type": "stream",
     "text": [
      "[3, 1, 2, 5, 7, 2]\n"
     ]
    }
   ],
   "source": [
    "#additive sum (567=5+6+7= 18= 1+8= 9)\n",
    "def sumlist(x):\n",
    "    b = str(x)\n",
    "    sum = 0\n",
    "    for dig in range(len(b)):\n",
    "        sum = sum + int(b[dig])\n",
    "    \n",
    "    if len(str(sum))!= 1:\n",
    "        return sumlist(sum)\n",
    "    else:\n",
    "        return sum\n",
    "      \n",
    "a=[66666666666666666666666666666666666666,55,11,14,43,56]\n",
    "new_array = []\n",
    "for i in a:\n",
    "    new_array.append(sumlist(i))    \n",
    "print(new_array)"
   ]
  },
  {
   "cell_type": "code",
   "execution_count": 49,
   "id": "3dcdc937",
   "metadata": {},
   "outputs": [
    {
     "name": "stdout",
     "output_type": "stream",
     "text": [
      "228\n"
     ]
    }
   ],
   "source": [
    "a = 66666666666666666666666666666666666666\n",
    "b = str(a)\n",
    "sum = 0\n",
    "for i in range(len(b)):\n",
    "    sum = sum + int(b[i])\n",
    "    \n",
    "print(sum)"
   ]
  },
  {
   "cell_type": "code",
   "execution_count": null,
   "id": "b79a1858",
   "metadata": {},
   "outputs": [],
   "source": []
  },
  {
   "cell_type": "code",
   "execution_count": null,
   "id": "6898c00a",
   "metadata": {},
   "outputs": [],
   "source": []
  },
  {
   "cell_type": "code",
   "execution_count": null,
   "id": "7a740f66",
   "metadata": {},
   "outputs": [],
   "source": []
  },
  {
   "cell_type": "code",
   "execution_count": null,
   "id": "94a93e6c",
   "metadata": {},
   "outputs": [],
   "source": []
  },
  {
   "cell_type": "code",
   "execution_count": null,
   "id": "6153a1d1",
   "metadata": {},
   "outputs": [],
   "source": []
  },
  {
   "cell_type": "code",
   "execution_count": null,
   "id": "41293150",
   "metadata": {},
   "outputs": [],
   "source": []
  },
  {
   "cell_type": "code",
   "execution_count": null,
   "id": "a1c49ea5",
   "metadata": {},
   "outputs": [],
   "source": [
    "else:\n",
    "        return sum\n",
    "    "
   ]
  }
 ],
 "metadata": {
  "kernelspec": {
   "display_name": "Python 3 (ipykernel)",
   "language": "python",
   "name": "python3"
  },
  "language_info": {
   "codemirror_mode": {
    "name": "ipython",
    "version": 3
   },
   "file_extension": ".py",
   "mimetype": "text/x-python",
   "name": "python",
   "nbconvert_exporter": "python",
   "pygments_lexer": "ipython3",
   "version": "3.8.12"
  }
 },
 "nbformat": 4,
 "nbformat_minor": 5
}
