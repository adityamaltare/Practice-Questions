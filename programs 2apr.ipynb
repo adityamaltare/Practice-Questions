{
 "cells": [
  {
   "cell_type": "code",
   "execution_count": null,
   "id": "cb44f274",
   "metadata": {},
   "outputs": [],
   "source": [
    "#check fibonacci\n",
    "\n",
    "def check_fibonacci(i):\n",
    "    #if ((i-1) + (i-2))==i:\n",
    "        #return True\n",
    "    return False\n",
    "    \n",
    "    \n",
    "n = int(input())\n",
    "print(check_fibonacci(n))"
   ]
  },
  {
   "cell_type": "code",
   "execution_count": null,
   "id": "fcc9edf8",
   "metadata": {},
   "outputs": [],
   "source": [
    "#nth multiple"
   ]
  },
  {
   "cell_type": "code",
   "execution_count": 5,
   "id": "670e5583",
   "metadata": {},
   "outputs": [
    {
     "name": "stdout",
     "output_type": "stream",
     "text": [
      "c\n",
      "99\n"
     ]
    }
   ],
   "source": [
    "#ascii\n",
    "char = input()\n",
    "print(ord(char))"
   ]
  },
  {
   "cell_type": "code",
   "execution_count": 11,
   "id": "05dfd979",
   "metadata": {},
   "outputs": [
    {
     "name": "stdout",
     "output_type": "stream",
     "text": [
      "6\n",
      "91\n"
     ]
    }
   ],
   "source": [
    "#sum of squares\n",
    "def sum_squares(n):\n",
    "    sum=0\n",
    "    for i in range(1,n+1):\n",
    "        sum = sum + i**2\n",
    "    return sum\n",
    "    \n",
    "    \n",
    "n = int(input())\n",
    "print(sum_squares(n))"
   ]
  },
  {
   "cell_type": "code",
   "execution_count": 13,
   "id": "eb741054",
   "metadata": {},
   "outputs": [
    {
     "name": "stdout",
     "output_type": "stream",
     "text": [
      "6\n",
      "441\n"
     ]
    }
   ],
   "source": [
    "#sum of cubes\n",
    "def sum_cubes(n):\n",
    "    sum=0\n",
    "    for i in range(1,n+1):\n",
    "        sum = sum + i**3\n",
    "    return sum\n",
    "    \n",
    "    \n",
    "n = int(input())\n",
    "print(sum_cubes(n))"
   ]
  },
  {
   "cell_type": "code",
   "execution_count": 14,
   "id": "67ba3ffe",
   "metadata": {},
   "outputs": [
    {
     "name": "stdout",
     "output_type": "stream",
     "text": [
      "1 2 3 4\n",
      "10\n"
     ]
    }
   ],
   "source": [
    "#sum of array\n",
    "def sum_array(array):\n",
    "    sum = 0\n",
    "    for i in array:\n",
    "        sum = sum + i\n",
    "    return sum\n",
    "\n",
    "array= list(map(int,input().split()))\n",
    "print(sum_array(array))"
   ]
  },
  {
   "cell_type": "code",
   "execution_count": 16,
   "id": "e6e319ce",
   "metadata": {},
   "outputs": [
    {
     "name": "stdout",
     "output_type": "stream",
     "text": [
      "1 2 3 4\n",
      "4\n"
     ]
    }
   ],
   "source": [
    "#largest element in array\n",
    "def max_array(array):\n",
    "    max = 0\n",
    "    for i in array:\n",
    "        if i>=max:\n",
    "            max = i\n",
    "        \n",
    "    return max\n",
    "\n",
    "\n",
    "array= list(map(int,input().split()))\n",
    "print(max_array(array))"
   ]
  },
  {
   "cell_type": "code",
   "execution_count": 20,
   "id": "c0c55b98",
   "metadata": {},
   "outputs": [
    {
     "name": "stdout",
     "output_type": "stream",
     "text": [
      "1 2 3 4 5 6 7\n",
      "3\n",
      "[5, 6, 7, 1, 2, 3]\n"
     ]
    }
   ],
   "source": [
    "#array rotation\n",
    "def rotate_array(array,n):\n",
    "    x= len(array)\n",
    "    new_array = []\n",
    "    for i in range(n+1,x):\n",
    "        new_array.append(array[i])\n",
    "    for i in range(0,n):\n",
    "        new_array.append(array[i])\n",
    "        \n",
    "    return new_array\n",
    "\n",
    "\n",
    "array= list(map(int,input().split()))\n",
    "n = int(input())\n",
    "print(rotate_array(array,n))"
   ]
  },
  {
   "cell_type": "code",
   "execution_count": null,
   "id": "0dff039d",
   "metadata": {},
   "outputs": [],
   "source": [
    "#array reversal method for rotation\n",
    "\n"
   ]
  },
  {
   "cell_type": "code",
   "execution_count": 23,
   "id": "016eb474",
   "metadata": {},
   "outputs": [
    {
     "name": "stdout",
     "output_type": "stream",
     "text": [
      "1 2 3 4 5\n",
      "[3, 4, 5, 1, 2]\n"
     ]
    }
   ],
   "source": [
    "#array divide and add first part to end\n",
    "def split_array(array):\n",
    "    x= len(array)\n",
    "    y= len(array)//2\n",
    "    new_array = []\n",
    "    for i in range(y,x):\n",
    "        new_array.append(array[i])\n",
    "    for i in range(0,y):\n",
    "        new_array.append(array[i])\n",
    "        \n",
    "    return new_array\n",
    "\n",
    "\n",
    "array= list(map(int,input().split()))\n",
    "\n",
    "print(split_array(array))"
   ]
  },
  {
   "cell_type": "code",
   "execution_count": null,
   "id": "84ec1046",
   "metadata": {},
   "outputs": [],
   "source": []
  }
 ],
 "metadata": {
  "kernelspec": {
   "display_name": "Python 3 (ipykernel)",
   "language": "python",
   "name": "python3"
  },
  "language_info": {
   "codemirror_mode": {
    "name": "ipython",
    "version": 3
   },
   "file_extension": ".py",
   "mimetype": "text/x-python",
   "name": "python",
   "nbconvert_exporter": "python",
   "pygments_lexer": "ipython3",
   "version": "3.8.12"
  }
 },
 "nbformat": 4,
 "nbformat_minor": 5
}
