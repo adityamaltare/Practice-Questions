{
 "cells": [
  {
   "cell_type": "code",
   "execution_count": 4,
   "id": "a7a5b768",
   "metadata": {},
   "outputs": [
    {
     "name": "stdout",
     "output_type": "stream",
     "text": [
      "5 4 3 2 1\n",
      "True\n"
     ]
    }
   ],
   "source": [
    "#array is monotonic or not\n",
    "def monotonic(array):\n",
    "    x = len(array)\n",
    "    for i in range(x):\n",
    "        if (array[i+1] > array[i]) or (array[i] > array[i+1]) :\n",
    "            return True\n",
    "        else:\n",
    "            return False\n",
    "    \n",
    "    \n",
    "array= list(map(int,input().split()))\n",
    "print(monotonic(array))"
   ]
  },
  {
   "cell_type": "code",
   "execution_count": 6,
   "id": "78cfe858",
   "metadata": {},
   "outputs": [
    {
     "name": "stdout",
     "output_type": "stream",
     "text": [
      "1 2 3 4 5\n",
      "[5, 2, 3, 4, 1]\n"
     ]
    }
   ],
   "source": [
    "#interchange 1st and last element\n",
    "def interchange(array):\n",
    "    x = array[-1]\n",
    "    array[-1] = array[0]\n",
    "    array[0] = x\n",
    "    \n",
    "    return array\n",
    "\n",
    "\n",
    "array= list(map(int,input().split()))\n",
    "print(interchange(array))"
   ]
  },
  {
   "cell_type": "code",
   "execution_count": 8,
   "id": "8923feda",
   "metadata": {},
   "outputs": [
    {
     "name": "stdout",
     "output_type": "stream",
     "text": [
      "1 2 3 4 5 6 7 8\n",
      "2\n",
      "4\n",
      "[1, 2, 5, 4, 3, 6, 7, 8]\n"
     ]
    }
   ],
   "source": [
    "#swap 2 elements\n",
    "def swap(array, first, second):\n",
    "    x = array[first]\n",
    "    array[first] = array[second]\n",
    "    array[second] = x\n",
    "    \n",
    "    return array\n",
    "\n",
    "\n",
    "array= list(map(int,input().split()))\n",
    "first , second = int(input()) , int(input())\n",
    "print(swap(array, first, second))\n"
   ]
  },
  {
   "cell_type": "code",
   "execution_count": 10,
   "id": "ec837029",
   "metadata": {},
   "outputs": [
    {
     "name": "stdout",
     "output_type": "stream",
     "text": [
      "1 2 3 4 5\n",
      "5\n"
     ]
    }
   ],
   "source": [
    "#length of list\n",
    "def length(array):\n",
    "    count = 0\n",
    "    for i in array:\n",
    "        count+=1\n",
    "    \n",
    "    return count\n",
    "\n",
    "\n",
    "array= list(map(int,input().split()))\n",
    "print(length(array))"
   ]
  },
  {
   "cell_type": "code",
   "execution_count": 13,
   "id": "06824303",
   "metadata": {},
   "outputs": [
    {
     "name": "stdout",
     "output_type": "stream",
     "text": [
      "1 2 3 4 5\n",
      "3\n",
      "True\n"
     ]
    }
   ],
   "source": [
    "#element exist\n",
    "def check_element(array, n):\n",
    "    for i in range(len(array)):\n",
    "        if array[i]== n :\n",
    "            return True\n",
    "        \n",
    "    return False\n",
    "    \n",
    "    \n",
    "    \n",
    "array= list(map(int,input().split()))\n",
    "n = int(input())\n",
    "print(check_element(array, n))"
   ]
  },
  {
   "cell_type": "code",
   "execution_count": 14,
   "id": "1d31e99b",
   "metadata": {},
   "outputs": [
    {
     "name": "stdout",
     "output_type": "stream",
     "text": [
      "1 2 3 4 5 6\n",
      "[]\n"
     ]
    }
   ],
   "source": [
    "#clear list\n",
    "array= list(map(int,input().split()))\n",
    "array.clear()\n",
    "# array = []\n",
    "# array*= 0\n",
    "# del array[:]\n",
    "print(array)"
   ]
  },
  {
   "cell_type": "code",
   "execution_count": 15,
   "id": "1a446826",
   "metadata": {},
   "outputs": [
    {
     "name": "stdout",
     "output_type": "stream",
     "text": [
      "1 2 3 4 5\n",
      "[5, 4, 3, 2, 1]\n"
     ]
    }
   ],
   "source": [
    "#reverse list\n",
    "array= list(map(int,input().split()))\n",
    "print(array[::-1])"
   ]
  },
  {
   "cell_type": "code",
   "execution_count": 16,
   "id": "11820818",
   "metadata": {},
   "outputs": [
    {
     "name": "stdout",
     "output_type": "stream",
     "text": [
      "1 2 3 4\n",
      "10\n"
     ]
    }
   ],
   "source": [
    "#sum of elements in list\n",
    "def sum_array(array):\n",
    "    sum = 0\n",
    "    for i in array:\n",
    "        sum = sum + i\n",
    "    return sum\n",
    "\n",
    "array= list(map(int,input().split()))\n",
    "print(sum_array(array))"
   ]
  },
  {
   "cell_type": "code",
   "execution_count": 17,
   "id": "18c53a48",
   "metadata": {},
   "outputs": [
    {
     "name": "stdout",
     "output_type": "stream",
     "text": [
      "1 2 3 4\n",
      "24\n"
     ]
    }
   ],
   "source": [
    "#multiply all elements in list\n",
    "def mul_array(array):\n",
    "    mul = 1\n",
    "    for i in array:\n",
    "        mul = mul * i\n",
    "    return mul\n",
    "\n",
    "array= list(map(int,input().split()))\n",
    "print(mul_array(array))"
   ]
  },
  {
   "cell_type": "code",
   "execution_count": 20,
   "id": "87ee6371",
   "metadata": {},
   "outputs": [
    {
     "name": "stdout",
     "output_type": "stream",
     "text": [
      "15 2 3 4 5\n",
      "2\n"
     ]
    }
   ],
   "source": [
    "#smallest elemnt in list\n",
    "def min_array(array):\n",
    "    min = array[0]\n",
    "    for i in array:\n",
    "        if i<=min:\n",
    "            min=i\n",
    "        \n",
    "    return min\n",
    "\n",
    "\n",
    "array= list(map(int,input().split()))\n",
    "print(min_array(array))"
   ]
  },
  {
   "cell_type": "code",
   "execution_count": null,
   "id": "9eeba854",
   "metadata": {},
   "outputs": [],
   "source": []
  }
 ],
 "metadata": {
  "kernelspec": {
   "display_name": "Python 3 (ipykernel)",
   "language": "python",
   "name": "python3"
  },
  "language_info": {
   "codemirror_mode": {
    "name": "ipython",
    "version": 3
   },
   "file_extension": ".py",
   "mimetype": "text/x-python",
   "name": "python",
   "nbconvert_exporter": "python",
   "pygments_lexer": "ipython3",
   "version": "3.8.12"
  }
 },
 "nbformat": 4,
 "nbformat_minor": 5
}
